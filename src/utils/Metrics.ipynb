{
 "cells": [
  {
   "cell_type": "code",
   "execution_count": 1,
   "id": "57a9a117-11a3-46ac-9478-2bac8eaf5648",
   "metadata": {},
   "outputs": [
    {
     "name": "stdout",
     "output_type": "stream",
     "text": [
      "['/Users/kimathikaai/workspace/fond/', '/Users/kimathikaai/workspace/fond/src/utils', '/opt/homebrew/Cellar/python@3.11/3.11.4_1/Frameworks/Python.framework/Versions/3.11/lib/python311.zip', '/opt/homebrew/Cellar/python@3.11/3.11.4_1/Frameworks/Python.framework/Versions/3.11/lib/python3.11', '/opt/homebrew/Cellar/python@3.11/3.11.4_1/Frameworks/Python.framework/Versions/3.11/lib/python3.11/lib-dynload', '', '/Users/kimathikaai/workspace/envs/fond/lib/python3.11/site-packages']\n"
     ]
    }
   ],
   "source": [
    "import sys\n",
    "src_path = \"/Users/kimathikaai/workspace/fond/\"\n",
    "if src_path not in sys.path:\n",
    "    sys.path.insert(0, src_path)\n",
    "print(sys.path)"
   ]
  },
  {
   "cell_type": "code",
   "execution_count": 2,
   "id": "ef33bd1f-07f0-4cb8-a518-27acdcd0e02e",
   "metadata": {},
   "outputs": [],
   "source": [
    "import argparse\n",
    "\n",
    "import wandb\n",
    "import yaml\n",
    "import copy\n",
    "from tqdm import tqdm\n",
    "import numpy as np\n",
    "\n",
    "from src.train.fit import fit\n",
    "from src.utils.hparams import random_hparams, seed_hash\n",
    "from src.utils.run_info import get_project_runs, find_best_steps\n",
    "\n",
    "%matplotlib inline\n",
    "%load_ext autoreload\n",
    "%autoreload 2\n",
    "\n",
    "ENTITY = 'critical-ml-dg'\n",
    "PROJECT_NAME = 'fond-checkpoints'\n",
    "SWEEP_IDS = ['g8zq0tf1', \"i4quzpc4\", \"5ewn6jqq\"]\n",
    "FILTERING_CRITERIA = {'kd_algo':'FOND'}\n",
    "METRIC_NAME = 'val/nacc'\n",
    "METRIC_GOAL = 'max'"
   ]
  },
  {
   "cell_type": "code",
   "execution_count": 3,
   "id": "ecbb0a24-5047-42d1-866b-8d7a34be76c5",
   "metadata": {},
   "outputs": [
    {
     "name": "stdout",
     "output_type": "stream",
     "text": [
      "[info] Extracting sweep information from the following sweeps: ['g8zq0tf1', 'i4quzpc4', '5ewn6jqq']\n"
     ]
    },
    {
     "name": "stderr",
     "output_type": "stream",
     "text": [
      "100%|██████████████████████████████████████████████████████| 120/120 [00:01<00:00, 72.39it/s]\n",
      "100%|█████████████████████████████████████████████████████| 120/120 [00:01<00:00, 103.96it/s]\n",
      "100%|██████████████████████████████████████████████████████| 120/120 [00:01<00:00, 95.82it/s]"
     ]
    },
    {
     "name": "stdout",
     "output_type": "stream",
     "text": [
      "[info] Runs to process: 240\n"
     ]
    },
    {
     "name": "stderr",
     "output_type": "stream",
     "text": [
      "\n"
     ]
    }
   ],
   "source": [
    "# setup api\n",
    "api = wandb.Api(\n",
    "    overrides={\n",
    "        \"entity\": ENTITY,\n",
    "    }\n",
    ")\n",
    "\n",
    "# get runs\n",
    "runs, unique_datasets = get_project_runs(\n",
    "    api_conn=api,\n",
    "    project_name=PROJECT_NAME,\n",
    "    sweep_ids=SWEEP_IDS,\n",
    "    filtering_criteria=FILTERING_CRITERIA,\n",
    ")"
   ]
  },
  {
   "cell_type": "code",
   "execution_count": 4,
   "id": "433cddd7-a3f1-443c-ba07-0cd75071bfb9",
   "metadata": {},
   "outputs": [
    {
     "data": {
      "text/html": [
       "<iframe src='https://wandb.ai/critical-ml-dg/fond-checkpoints/runs/tij1kc1m?jupyter=true' style='border:none;width:100%;height:420px;'></iframe>"
      ],
      "text/plain": [
       "<Run critical-ml-dg/fond-checkpoints/tij1kc1m (finished)>"
      ]
     },
     "execution_count": 4,
     "metadata": {},
     "output_type": "execute_result"
    }
   ],
   "source": [
    "# visualize a run\n",
    "runs[0]"
   ]
  },
  {
   "cell_type": "code",
   "execution_count": 5,
   "id": "0b2bf6b6-cf20-43e8-b11e-a1de68b7b756",
   "metadata": {},
   "outputs": [
    {
     "data": {
      "text/plain": [
       "{'val/nacc': 0.09854567050933838, 'step': 5000}"
      ]
     },
     "execution_count": 5,
     "metadata": {},
     "output_type": "execute_result"
    }
   ],
   "source": [
    "# visualize a run metric\n",
    "list(runs[0].scan_history(keys=['val/nacc', 'step']))[-1]"
   ]
  },
  {
   "cell_type": "code",
   "execution_count": 6,
   "id": "b9d084c1-f71a-485e-8d3c-d4c212c834b5",
   "metadata": {},
   "outputs": [
    {
     "name": "stderr",
     "output_type": "stream",
     "text": [
      " 14%|███████▌                                               | 33/240 [01:10<09:41,  2.81s/it]\u001b[34m\u001b[1mwandb\u001b[0m: \u001b[33mWARNING\u001b[0m A graphql request initiated by the public wandb API timed out (timeout=19 sec). Create a new API with an integer timeout larger than 19, e.g., `api = wandb.Api(timeout=29)` to increase the graphql timeout.\n",
      " 38%|████████████████████▋                                  | 90/240 [03:23<04:47,  1.91s/it]\u001b[34m\u001b[1mwandb\u001b[0m: \u001b[33mWARNING\u001b[0m A graphql request initiated by the public wandb API timed out (timeout=19 sec). Create a new API with an integer timeout larger than 19, e.g., `api = wandb.Api(timeout=29)` to increase the graphql timeout.\n",
      " 38%|█████████████████████                                  | 92/240 [03:47<15:11,  6.16s/it]\u001b[34m\u001b[1mwandb\u001b[0m: \u001b[33mWARNING\u001b[0m A graphql request initiated by the public wandb API timed out (timeout=19 sec). Create a new API with an integer timeout larger than 19, e.g., `api = wandb.Api(timeout=29)` to increase the graphql timeout.\n",
      " 42%|██████████████████████▌                               | 100/240 [04:26<06:01,  2.58s/it]\u001b[34m\u001b[1mwandb\u001b[0m: \u001b[33mWARNING\u001b[0m A graphql request initiated by the public wandb API timed out (timeout=19 sec). Create a new API with an integer timeout larger than 19, e.g., `api = wandb.Api(timeout=29)` to increase the graphql timeout.\n",
      " 53%|████████████████████████████▌                         | 127/240 [05:44<03:33,  1.89s/it]\u001b[34m\u001b[1mwandb\u001b[0m: \u001b[33mWARNING\u001b[0m A graphql request initiated by the public wandb API timed out (timeout=19 sec). Create a new API with an integer timeout larger than 19, e.g., `api = wandb.Api(timeout=29)` to increase the graphql timeout.\n",
      "100%|██████████████████████████████████████████████████████| 240/240 [10:13<00:00,  2.55s/it]\n"
     ]
    }
   ],
   "source": [
    "best_step_info = find_best_steps(\n",
    "    runs=runs, metric_name=METRIC_NAME, metric_goal=METRIC_GOAL\n",
    ")"
   ]
  },
  {
   "cell_type": "code",
   "execution_count": 7,
   "id": "c287fde3-18cb-461a-ab4a-57e6237c5228",
   "metadata": {
    "scrolled": true
   },
   "outputs": [
    {
     "name": "stderr",
     "output_type": "stream",
     "text": [
      "100%|███████████████████████████████████████████████████| 240/240 [00:00<00:00, 91081.52it/s]\n"
     ]
    },
    {
     "data": {
      "text/plain": [
       "{'FOND': {'PACS': {'low': {0: {'id': 'xmqjyuzz',\n",
       "     'value': 0.32841574649016064,\n",
       "     'step': 2700},\n",
       "    1: {'id': '7mx5skyi', 'value': 0.330560381213824, 'step': 4500},\n",
       "    2: {'id': 'gybvfjta', 'value': 0.33100227018197376, 'step': 4200},\n",
       "    3: {'id': 'oi7oxz3f', 'value': 0.3302321384350459, 'step': 3000}},\n",
       "   'high': {0: {'id': 'lb4gwn9y', 'value': 0.3333333333333333, 'step': 900},\n",
       "    1: {'id': '710c64zk', 'value': 0.3333333333333333, 'step': 600},\n",
       "    2: {'id': 'simzmtfc', 'value': 0.3333333333333333, 'step': 900},\n",
       "    3: {'id': '9hf5f6ag', 'value': 0.3311111132303874, 'step': 3000}},\n",
       "   'high_linked_only': {0: {'id': 0, 'step': 0, 'value': -inf},\n",
       "    1: {'id': 0, 'step': 0, 'value': -inf},\n",
       "    2: {'id': 0, 'step': 0, 'value': -inf},\n",
       "    3: {'id': 0, 'step': 0, 'value': -inf}},\n",
       "   'low_linked_only': {0: {'id': 0, 'step': 0, 'value': -inf},\n",
       "    1: {'id': 0, 'step': 0, 'value': -inf},\n",
       "    2: {'id': 0, 'step': 0, 'value': -inf},\n",
       "    3: {'id': 0, 'step': 0, 'value': -inf}}},\n",
       "  'VLCS': {'low': {0: {'id': 'ixa4teac',\n",
       "     'value': 0.30768294135729474,\n",
       "     'step': 1200},\n",
       "    1: {'id': '1exza8x8', 'value': 0.3302591145038605, 'step': 3900},\n",
       "    2: {'id': 'vvy7sw6n', 'value': 0.3202323416868846, 'step': 1800},\n",
       "    3: {'id': '13i151lf', 'value': 0.3239271144072215, 'step': 4200}},\n",
       "   'high': {0: {'id': 'aqrkdsgh', 'value': 0.3333333333333333, 'step': 0},\n",
       "    1: {'id': '1bovu56z', 'value': 0.3333333333333333, 'step': 300},\n",
       "    2: {'id': 'xnp3gj4w', 'value': 0.3333333333333333, 'step': 900},\n",
       "    3: {'id': '70ru4qrp', 'value': 0.3333333333333333, 'step': 1200}},\n",
       "   'high_linked_only': {0: {'id': 0, 'step': 0, 'value': -inf},\n",
       "    1: {'id': 0, 'step': 0, 'value': -inf},\n",
       "    2: {'id': 0, 'step': 0, 'value': -inf},\n",
       "    3: {'id': 0, 'step': 0, 'value': -inf}},\n",
       "   'low_linked_only': {0: {'id': 0, 'step': 0, 'value': -inf},\n",
       "    1: {'id': 0, 'step': 0, 'value': -inf},\n",
       "    2: {'id': 0, 'step': 0, 'value': -inf},\n",
       "    3: {'id': 0, 'step': 0, 'value': -inf}}},\n",
       "  'OfficeHome': {'low': {0: {'id': 0, 'step': 0, 'value': -inf},\n",
       "    1: {'id': 0, 'step': 0, 'value': -inf},\n",
       "    2: {'id': 0, 'step': 0, 'value': -inf},\n",
       "    3: {'id': 0, 'step': 0, 'value': -inf}},\n",
       "   'high': {0: {'id': 0, 'step': 0, 'value': -inf},\n",
       "    1: {'id': 0, 'step': 0, 'value': -inf},\n",
       "    2: {'id': 0, 'step': 0, 'value': -inf},\n",
       "    3: {'id': 0, 'step': 0, 'value': -inf}},\n",
       "   'high_linked_only': {0: {'id': 0, 'step': 0, 'value': -inf},\n",
       "    1: {'id': 0, 'step': 0, 'value': -inf},\n",
       "    2: {'id': 0, 'step': 0, 'value': -inf},\n",
       "    3: {'id': 0, 'step': 0, 'value': -inf}},\n",
       "   'low_linked_only': {0: {'id': 0, 'step': 0, 'value': -inf},\n",
       "    1: {'id': 0, 'step': 0, 'value': -inf},\n",
       "    2: {'id': 0, 'step': 0, 'value': -inf},\n",
       "    3: {'id': 0, 'step': 0, 'value': -inf}}}}}"
      ]
     },
     "execution_count": 7,
     "metadata": {},
     "output_type": "execute_result"
    }
   ],
   "source": [
    "# Runs are organized based on dataset, overlap and test_id\n",
    "INFO = {\n",
    "    x:{\n",
    "        y:{\n",
    "            z: {'id': 0, 'step': 0, 'value': float('inf') if METRIC_GOAL=='min' else float('-inf')} for z in range(4)\n",
    "        } for y in ['low', 'high', 'high_linked_only', 'low_linked_only']\n",
    "    } \n",
    "    for x in ['PACS', 'VLCS', 'OfficeHome']\n",
    "}\n",
    "algorithm_info = {}\n",
    "for run in tqdm(best_step_info):\n",
    "    run_step_data = best_step_info[run]\n",
    "    run_id = run.id\n",
    "    run_dataset = run.config[\"dataset\"]\n",
    "    run_test_id = run.config[\"test_set_id\"]\n",
    "    run_overlap = run.config['overlap']\n",
    "    run_algorithm = run.config['kd_algo']\n",
    "    run_metric_value = run_step_data[METRIC_NAME]\n",
    "    run_step = run_step_data['step_number']\n",
    "\n",
    "    # update\n",
    "    if run_algorithm not in algorithm_info:\n",
    "        algorithm_info[run_algorithm] = copy.deepcopy(INFO)\n",
    "        algorithm_info[run_algorithm][run_dataset][run_overlap][run_test_id] = {\n",
    "            \"id\": run_id, 'value': run_metric_value, 'step':run_step}\n",
    "        continue\n",
    "\n",
    "    previous_val = algorithm_info[run_algorithm][run_dataset][run_overlap][run_test_id]['value']\n",
    "\n",
    "    # compare based on goal\n",
    "    if (METRIC_GOAL==\"min\") and (previous_val>run_metric_value):\n",
    "        algorithm_info[run_algorithm][run_dataset][run_overlap][run_test_id] = {\n",
    "            'id': run_id, 'value':run_metric_value, 'step': run_step}\n",
    "    elif (METRIC_GOAL==\"max\") and (previous_val<run_metric_value):\n",
    "        algorithm_info[run_algorithm][run_dataset][run_overlap][run_test_id] = {\n",
    "            'id': run_id, 'value':run_metric_value, 'step': run_step}\n",
    "\n",
    "algorithm_info    "
   ]
  },
  {
   "cell_type": "code",
   "execution_count": 8,
   "id": "66e9cef3-6843-44ca-a605-9060b1078da4",
   "metadata": {},
   "outputs": [
    {
     "ename": "TypeError",
     "evalue": "unsupported operand type(s) for +: 'dict' and 'dict'",
     "output_type": "error",
     "traceback": [
      "\u001b[0;31m---------------------------------------------------------------------------\u001b[0m",
      "\u001b[0;31mTypeError\u001b[0m                                 Traceback (most recent call last)",
      "Cell \u001b[0;32mIn[8], line 5\u001b[0m\n\u001b[1;32m      3\u001b[0m \u001b[38;5;28;01mfor\u001b[39;00m dataset \u001b[38;5;129;01min\u001b[39;00m algorithm_info[algorithm]:\n\u001b[1;32m      4\u001b[0m     \u001b[38;5;28;01mfor\u001b[39;00m overlap \u001b[38;5;129;01min\u001b[39;00m algorithm_info[algorithm][dataset]:\n\u001b[0;32m----> 5\u001b[0m         average \u001b[38;5;241m=\u001b[39m \u001b[43mnp\u001b[49m\u001b[38;5;241;43m.\u001b[39;49m\u001b[43mnanmean\u001b[49m\u001b[43m(\u001b[49m\u001b[38;5;28;43mlist\u001b[39;49m\u001b[43m(\u001b[49m\u001b[43malgorithm_info\u001b[49m\u001b[43m[\u001b[49m\u001b[43malgorithm\u001b[49m\u001b[43m]\u001b[49m\u001b[43m[\u001b[49m\u001b[43mdataset\u001b[49m\u001b[43m]\u001b[49m\u001b[43m[\u001b[49m\u001b[43moverlap\u001b[49m\u001b[43m]\u001b[49m\u001b[38;5;241;43m.\u001b[39;49m\u001b[43mvalues\u001b[49m\u001b[43m(\u001b[49m\u001b[43m)\u001b[49m\u001b[43m)\u001b[49m\u001b[43m)\u001b[49m\n\u001b[1;32m      6\u001b[0m         \u001b[38;5;28mprint\u001b[39m(algorithm, dataset, overlap, \u001b[38;5;124mf\u001b[39m\u001b[38;5;124m\"\u001b[39m\u001b[38;5;132;01m{\u001b[39;00mMETRIC_NAME\u001b[38;5;132;01m}\u001b[39;00m\u001b[38;5;124m: \u001b[39m\u001b[38;5;124m\"\u001b[39m, average)\n",
      "File \u001b[0;32m~/workspace/envs/fond/lib/python3.11/site-packages/numpy/lib/nanfunctions.py:1046\u001b[0m, in \u001b[0;36mnanmean\u001b[0;34m(a, axis, dtype, out, keepdims, where)\u001b[0m\n\u001b[1;32m   1042\u001b[0m     \u001b[38;5;28;01mraise\u001b[39;00m \u001b[38;5;167;01mTypeError\u001b[39;00m(\u001b[38;5;124m\"\u001b[39m\u001b[38;5;124mIf a is inexact, then out must be inexact\u001b[39m\u001b[38;5;124m\"\u001b[39m)\n\u001b[1;32m   1044\u001b[0m cnt \u001b[38;5;241m=\u001b[39m np\u001b[38;5;241m.\u001b[39msum(\u001b[38;5;241m~\u001b[39mmask, axis\u001b[38;5;241m=\u001b[39maxis, dtype\u001b[38;5;241m=\u001b[39mnp\u001b[38;5;241m.\u001b[39mintp, keepdims\u001b[38;5;241m=\u001b[39mkeepdims,\n\u001b[1;32m   1045\u001b[0m              where\u001b[38;5;241m=\u001b[39mwhere)\n\u001b[0;32m-> 1046\u001b[0m tot \u001b[38;5;241m=\u001b[39m \u001b[43mnp\u001b[49m\u001b[38;5;241;43m.\u001b[39;49m\u001b[43msum\u001b[49m\u001b[43m(\u001b[49m\u001b[43marr\u001b[49m\u001b[43m,\u001b[49m\u001b[43m \u001b[49m\u001b[43maxis\u001b[49m\u001b[38;5;241;43m=\u001b[39;49m\u001b[43maxis\u001b[49m\u001b[43m,\u001b[49m\u001b[43m \u001b[49m\u001b[43mdtype\u001b[49m\u001b[38;5;241;43m=\u001b[39;49m\u001b[43mdtype\u001b[49m\u001b[43m,\u001b[49m\u001b[43m \u001b[49m\u001b[43mout\u001b[49m\u001b[38;5;241;43m=\u001b[39;49m\u001b[43mout\u001b[49m\u001b[43m,\u001b[49m\u001b[43m \u001b[49m\u001b[43mkeepdims\u001b[49m\u001b[38;5;241;43m=\u001b[39;49m\u001b[43mkeepdims\u001b[49m\u001b[43m,\u001b[49m\n\u001b[1;32m   1047\u001b[0m \u001b[43m             \u001b[49m\u001b[43mwhere\u001b[49m\u001b[38;5;241;43m=\u001b[39;49m\u001b[43mwhere\u001b[49m\u001b[43m)\u001b[49m\n\u001b[1;32m   1048\u001b[0m avg \u001b[38;5;241m=\u001b[39m _divide_by_count(tot, cnt, out\u001b[38;5;241m=\u001b[39mout)\n\u001b[1;32m   1050\u001b[0m isbad \u001b[38;5;241m=\u001b[39m (cnt \u001b[38;5;241m==\u001b[39m \u001b[38;5;241m0\u001b[39m)\n",
      "File \u001b[0;32m~/workspace/envs/fond/lib/python3.11/site-packages/numpy/core/fromnumeric.py:2313\u001b[0m, in \u001b[0;36msum\u001b[0;34m(a, axis, dtype, out, keepdims, initial, where)\u001b[0m\n\u001b[1;32m   2310\u001b[0m         \u001b[38;5;28;01mreturn\u001b[39;00m out\n\u001b[1;32m   2311\u001b[0m     \u001b[38;5;28;01mreturn\u001b[39;00m res\n\u001b[0;32m-> 2313\u001b[0m \u001b[38;5;28;01mreturn\u001b[39;00m \u001b[43m_wrapreduction\u001b[49m\u001b[43m(\u001b[49m\u001b[43ma\u001b[49m\u001b[43m,\u001b[49m\u001b[43m \u001b[49m\u001b[43mnp\u001b[49m\u001b[38;5;241;43m.\u001b[39;49m\u001b[43madd\u001b[49m\u001b[43m,\u001b[49m\u001b[43m \u001b[49m\u001b[38;5;124;43m'\u001b[39;49m\u001b[38;5;124;43msum\u001b[39;49m\u001b[38;5;124;43m'\u001b[39;49m\u001b[43m,\u001b[49m\u001b[43m \u001b[49m\u001b[43maxis\u001b[49m\u001b[43m,\u001b[49m\u001b[43m \u001b[49m\u001b[43mdtype\u001b[49m\u001b[43m,\u001b[49m\u001b[43m \u001b[49m\u001b[43mout\u001b[49m\u001b[43m,\u001b[49m\u001b[43m \u001b[49m\u001b[43mkeepdims\u001b[49m\u001b[38;5;241;43m=\u001b[39;49m\u001b[43mkeepdims\u001b[49m\u001b[43m,\u001b[49m\n\u001b[1;32m   2314\u001b[0m \u001b[43m                      \u001b[49m\u001b[43minitial\u001b[49m\u001b[38;5;241;43m=\u001b[39;49m\u001b[43minitial\u001b[49m\u001b[43m,\u001b[49m\u001b[43m \u001b[49m\u001b[43mwhere\u001b[49m\u001b[38;5;241;43m=\u001b[39;49m\u001b[43mwhere\u001b[49m\u001b[43m)\u001b[49m\n",
      "File \u001b[0;32m~/workspace/envs/fond/lib/python3.11/site-packages/numpy/core/fromnumeric.py:88\u001b[0m, in \u001b[0;36m_wrapreduction\u001b[0;34m(obj, ufunc, method, axis, dtype, out, **kwargs)\u001b[0m\n\u001b[1;32m     85\u001b[0m         \u001b[38;5;28;01melse\u001b[39;00m:\n\u001b[1;32m     86\u001b[0m             \u001b[38;5;28;01mreturn\u001b[39;00m reduction(axis\u001b[38;5;241m=\u001b[39maxis, out\u001b[38;5;241m=\u001b[39mout, \u001b[38;5;241m*\u001b[39m\u001b[38;5;241m*\u001b[39mpasskwargs)\n\u001b[0;32m---> 88\u001b[0m \u001b[38;5;28;01mreturn\u001b[39;00m \u001b[43mufunc\u001b[49m\u001b[38;5;241;43m.\u001b[39;49m\u001b[43mreduce\u001b[49m\u001b[43m(\u001b[49m\u001b[43mobj\u001b[49m\u001b[43m,\u001b[49m\u001b[43m \u001b[49m\u001b[43maxis\u001b[49m\u001b[43m,\u001b[49m\u001b[43m \u001b[49m\u001b[43mdtype\u001b[49m\u001b[43m,\u001b[49m\u001b[43m \u001b[49m\u001b[43mout\u001b[49m\u001b[43m,\u001b[49m\u001b[43m \u001b[49m\u001b[38;5;241;43m*\u001b[39;49m\u001b[38;5;241;43m*\u001b[39;49m\u001b[43mpasskwargs\u001b[49m\u001b[43m)\u001b[49m\n",
      "\u001b[0;31mTypeError\u001b[0m: unsupported operand type(s) for +: 'dict' and 'dict'"
     ]
    }
   ],
   "source": [
    "# Find the corresponding test performance for a given step\n",
    "# get the average METRIC_VALUE for each algorith, dataset and overlap\n",
    "for algorithm in algorithm_info:\n",
    "    for dataset in algorithm_info[algorithm]:\n",
    "        for overlap in algorithm_info[algorithm][dataset]:\n",
    "            for domain_id in algorithm_info[algorithm][dataset][overlap]:\n",
    "                # Get the test values\n",
    "            average = np.nanmean(list(algorithm_info[algorithm][dataset][overlap].values()))\n",
    "            print(algorithm, dataset, overlap, f\"{METRIC_NAME}: \", average)"
   ]
  },
  {
   "cell_type": "code",
   "execution_count": null,
   "id": "65443c6f-6435-45c1-8307-80fc4820d713",
   "metadata": {},
   "outputs": [],
   "source": [
    "# Report the test metric performance"
   ]
  }
 ],
 "metadata": {
  "kernelspec": {
   "display_name": "Python 3 (ipykernel)",
   "language": "python",
   "name": "python3"
  },
  "language_info": {
   "codemirror_mode": {
    "name": "ipython",
    "version": 3
   },
   "file_extension": ".py",
   "mimetype": "text/x-python",
   "name": "python",
   "nbconvert_exporter": "python",
   "pygments_lexer": "ipython3",
   "version": "3.11.4"
  }
 },
 "nbformat": 4,
 "nbformat_minor": 5
}
